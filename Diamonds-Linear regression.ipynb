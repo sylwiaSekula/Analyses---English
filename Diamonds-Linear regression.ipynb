{
 "cells": [
  {
   "cell_type": "code",
   "execution_count": 1,
   "id": "6cb2aeae",
   "metadata": {},
   "outputs": [],
   "source": [
    "from bioinfokit.analys import stat\n",
    "import matplotlib.pyplot as plt\n",
    "import numpy as np\n",
    "import pandas as pd\n",
    "from patsy import dmatrices\n",
    "import seaborn as sns\n",
    "from scipy import stats\n",
    "from sklearn.linear_model import LinearRegression\n",
    "import sklearn.metrics\n",
    "from sklearn.metrics import mean_squared_error, r2_score\n",
    "from statsmodels.stats.stattools import durbin_watson\n",
    "from statsmodels.stats.diagnostic import normal_ad\n",
    "import statsmodels.formula.api as smf\n",
    "import statsmodels.stats.api as sms\n",
    "from statsmodels.compat import lzip\n",
    "from statsmodels.stats.outliers_influence import variance_inflation_factor\n",
    "plt.style.use('seaborn')\n",
    "plt.rcParams[\"figure.figsize\"] = (16, 8)"
   ]
  },
  {
   "cell_type": "markdown",
   "id": "2a2ec98f",
   "metadata": {},
   "source": [
    "The Diamonds dataset https://www.kaggle.com/datasets/shivam2503/diamonds<br>\n",
    "The dataset contains data on 53,940 round-cut diamonds with 10 features:\n",
    "1. carat - weight of the diamond (numerical data),\n",
    "2. cut - cut quality of the cut (Fair, Good, Very Good, Premium, Ideal) (categorical data),\n",
    "3. color - color diamond colour, from J (worst) to D (best) (caegorical data),\n",
    "4. clarity - clarity a measurement of how clear the diamond is (I1 (worst), SI2, SI1, VS2, VS1, VVS2, VVS1, IF (best)) (categorical data),\n",
    "5. depth - total depth percentage = z / mean(x, y) = 2 * z / (x + y) (43--79)(numerical data),\n",
    "6. table - table width of top of diamond relative to widest point (43--95) (numerical data),\n",
    "7. price - price in US dollars,(numerical data),\n",
    "8. x - length in mm (numerical data), \n",
    "9. y - width in mm (numerical data),\n",
    "10. z - depht in mm (numerical data)."
   ]
  },
  {
   "cell_type": "code",
   "execution_count": 2,
   "id": "825212d4",
   "metadata": {},
   "outputs": [
    {
     "name": "stdout",
     "output_type": "stream",
     "text": [
      "<class 'pandas.core.frame.DataFrame'>\n",
      "Int64Index: 53943 entries, 1 to 53943\n",
      "Data columns (total 10 columns):\n",
      " #   Column   Non-Null Count  Dtype  \n",
      "---  ------   --------------  -----  \n",
      " 0   carat    53943 non-null  float64\n",
      " 1   cut      53943 non-null  object \n",
      " 2   color    53943 non-null  object \n",
      " 3   clarity  53943 non-null  object \n",
      " 4   depth    53943 non-null  float64\n",
      " 5   table    53943 non-null  float64\n",
      " 6   price    53943 non-null  int64  \n",
      " 7   x        53943 non-null  float64\n",
      " 8   y        53943 non-null  float64\n",
      " 9   z        53943 non-null  float64\n",
      "dtypes: float64(6), int64(1), object(3)\n",
      "memory usage: 4.5+ MB\n"
     ]
    }
   ],
   "source": [
    "data_frame = pd.read_csv('./Diamonds Prices2022.csv',index_col=0)\n",
    "data_frame.info()"
   ]
  },
  {
   "cell_type": "code",
   "execution_count": 3,
   "id": "c567613d",
   "metadata": {},
   "outputs": [
    {
     "data": {
      "text/html": [
       "<div>\n",
       "<style scoped>\n",
       "    .dataframe tbody tr th:only-of-type {\n",
       "        vertical-align: middle;\n",
       "    }\n",
       "\n",
       "    .dataframe tbody tr th {\n",
       "        vertical-align: top;\n",
       "    }\n",
       "\n",
       "    .dataframe thead th {\n",
       "        text-align: right;\n",
       "    }\n",
       "</style>\n",
       "<table border=\"1\" class=\"dataframe\">\n",
       "  <thead>\n",
       "    <tr style=\"text-align: right;\">\n",
       "      <th></th>\n",
       "      <th>carat</th>\n",
       "      <th>cut</th>\n",
       "      <th>color</th>\n",
       "      <th>clarity</th>\n",
       "      <th>depth</th>\n",
       "      <th>table</th>\n",
       "      <th>price</th>\n",
       "      <th>x</th>\n",
       "      <th>y</th>\n",
       "      <th>z</th>\n",
       "    </tr>\n",
       "  </thead>\n",
       "  <tbody>\n",
       "    <tr>\n",
       "      <th>1</th>\n",
       "      <td>0.23</td>\n",
       "      <td>Ideal</td>\n",
       "      <td>E</td>\n",
       "      <td>SI2</td>\n",
       "      <td>61.5</td>\n",
       "      <td>55.0</td>\n",
       "      <td>326</td>\n",
       "      <td>3.95</td>\n",
       "      <td>3.98</td>\n",
       "      <td>2.43</td>\n",
       "    </tr>\n",
       "    <tr>\n",
       "      <th>2</th>\n",
       "      <td>0.21</td>\n",
       "      <td>Premium</td>\n",
       "      <td>E</td>\n",
       "      <td>SI1</td>\n",
       "      <td>59.8</td>\n",
       "      <td>61.0</td>\n",
       "      <td>326</td>\n",
       "      <td>3.89</td>\n",
       "      <td>3.84</td>\n",
       "      <td>2.31</td>\n",
       "    </tr>\n",
       "    <tr>\n",
       "      <th>3</th>\n",
       "      <td>0.23</td>\n",
       "      <td>Good</td>\n",
       "      <td>E</td>\n",
       "      <td>VS1</td>\n",
       "      <td>56.9</td>\n",
       "      <td>65.0</td>\n",
       "      <td>327</td>\n",
       "      <td>4.05</td>\n",
       "      <td>4.07</td>\n",
       "      <td>2.31</td>\n",
       "    </tr>\n",
       "    <tr>\n",
       "      <th>4</th>\n",
       "      <td>0.29</td>\n",
       "      <td>Premium</td>\n",
       "      <td>I</td>\n",
       "      <td>VS2</td>\n",
       "      <td>62.4</td>\n",
       "      <td>58.0</td>\n",
       "      <td>334</td>\n",
       "      <td>4.20</td>\n",
       "      <td>4.23</td>\n",
       "      <td>2.63</td>\n",
       "    </tr>\n",
       "    <tr>\n",
       "      <th>5</th>\n",
       "      <td>0.31</td>\n",
       "      <td>Good</td>\n",
       "      <td>J</td>\n",
       "      <td>SI2</td>\n",
       "      <td>63.3</td>\n",
       "      <td>58.0</td>\n",
       "      <td>335</td>\n",
       "      <td>4.34</td>\n",
       "      <td>4.35</td>\n",
       "      <td>2.75</td>\n",
       "    </tr>\n",
       "    <tr>\n",
       "      <th>...</th>\n",
       "      <td>...</td>\n",
       "      <td>...</td>\n",
       "      <td>...</td>\n",
       "      <td>...</td>\n",
       "      <td>...</td>\n",
       "      <td>...</td>\n",
       "      <td>...</td>\n",
       "      <td>...</td>\n",
       "      <td>...</td>\n",
       "      <td>...</td>\n",
       "    </tr>\n",
       "    <tr>\n",
       "      <th>53939</th>\n",
       "      <td>0.86</td>\n",
       "      <td>Premium</td>\n",
       "      <td>H</td>\n",
       "      <td>SI2</td>\n",
       "      <td>61.0</td>\n",
       "      <td>58.0</td>\n",
       "      <td>2757</td>\n",
       "      <td>6.15</td>\n",
       "      <td>6.12</td>\n",
       "      <td>3.74</td>\n",
       "    </tr>\n",
       "    <tr>\n",
       "      <th>53940</th>\n",
       "      <td>0.75</td>\n",
       "      <td>Ideal</td>\n",
       "      <td>D</td>\n",
       "      <td>SI2</td>\n",
       "      <td>62.2</td>\n",
       "      <td>55.0</td>\n",
       "      <td>2757</td>\n",
       "      <td>5.83</td>\n",
       "      <td>5.87</td>\n",
       "      <td>3.64</td>\n",
       "    </tr>\n",
       "    <tr>\n",
       "      <th>53941</th>\n",
       "      <td>0.71</td>\n",
       "      <td>Premium</td>\n",
       "      <td>E</td>\n",
       "      <td>SI1</td>\n",
       "      <td>60.5</td>\n",
       "      <td>55.0</td>\n",
       "      <td>2756</td>\n",
       "      <td>5.79</td>\n",
       "      <td>5.74</td>\n",
       "      <td>3.49</td>\n",
       "    </tr>\n",
       "    <tr>\n",
       "      <th>53942</th>\n",
       "      <td>0.71</td>\n",
       "      <td>Premium</td>\n",
       "      <td>F</td>\n",
       "      <td>SI1</td>\n",
       "      <td>59.8</td>\n",
       "      <td>62.0</td>\n",
       "      <td>2756</td>\n",
       "      <td>5.74</td>\n",
       "      <td>5.73</td>\n",
       "      <td>3.43</td>\n",
       "    </tr>\n",
       "    <tr>\n",
       "      <th>53943</th>\n",
       "      <td>0.70</td>\n",
       "      <td>Very Good</td>\n",
       "      <td>E</td>\n",
       "      <td>VS2</td>\n",
       "      <td>60.5</td>\n",
       "      <td>59.0</td>\n",
       "      <td>2757</td>\n",
       "      <td>5.71</td>\n",
       "      <td>5.76</td>\n",
       "      <td>3.47</td>\n",
       "    </tr>\n",
       "  </tbody>\n",
       "</table>\n",
       "<p>53943 rows × 10 columns</p>\n",
       "</div>"
      ],
      "text/plain": [
       "       carat        cut color clarity  depth  table  price     x     y     z\n",
       "1       0.23      Ideal     E     SI2   61.5   55.0    326  3.95  3.98  2.43\n",
       "2       0.21    Premium     E     SI1   59.8   61.0    326  3.89  3.84  2.31\n",
       "3       0.23       Good     E     VS1   56.9   65.0    327  4.05  4.07  2.31\n",
       "4       0.29    Premium     I     VS2   62.4   58.0    334  4.20  4.23  2.63\n",
       "5       0.31       Good     J     SI2   63.3   58.0    335  4.34  4.35  2.75\n",
       "...      ...        ...   ...     ...    ...    ...    ...   ...   ...   ...\n",
       "53939   0.86    Premium     H     SI2   61.0   58.0   2757  6.15  6.12  3.74\n",
       "53940   0.75      Ideal     D     SI2   62.2   55.0   2757  5.83  5.87  3.64\n",
       "53941   0.71    Premium     E     SI1   60.5   55.0   2756  5.79  5.74  3.49\n",
       "53942   0.71    Premium     F     SI1   59.8   62.0   2756  5.74  5.73  3.43\n",
       "53943   0.70  Very Good     E     VS2   60.5   59.0   2757  5.71  5.76  3.47\n",
       "\n",
       "[53943 rows x 10 columns]"
      ]
     },
     "execution_count": 3,
     "metadata": {},
     "output_type": "execute_result"
    }
   ],
   "source": [
    "#first look at the data frame\n",
    "data_frame"
   ]
  },
  {
   "cell_type": "markdown",
   "id": "b8a5008e",
   "metadata": {},
   "source": [
    "### Carat"
   ]
  },
  {
   "cell_type": "code",
   "execution_count": 4,
   "id": "c82f1b5d",
   "metadata": {},
   "outputs": [
    {
     "data": {
      "text/plain": [
       "count    53943.000000\n",
       "mean         0.797935\n",
       "std          0.473999\n",
       "min          0.200000\n",
       "25%          0.400000\n",
       "50%          0.700000\n",
       "75%          1.040000\n",
       "max          5.010000\n",
       "Name: carat, dtype: float64"
      ]
     },
     "execution_count": 4,
     "metadata": {},
     "output_type": "execute_result"
    }
   ],
   "source": [
    "data_frame['carat'].describe()"
   ]
  },
  {
   "cell_type": "code",
   "execution_count": 5,
   "id": "ac857b71",
   "metadata": {},
   "outputs": [
    {
     "data": {
      "image/png": "[encoded data removed]",
      "text/plain": [
       "<Figure size 1152x144 with 1 Axes>"
      ]
     },
     "metadata": {},
     "output_type": "display_data"
    }
   ],
   "source": [
    "plt.figure(figsize=(16, 2))\n",
    "sns.boxplot(x='carat',data=data_frame, color='#333399')\n",
    "plt.title(\"Carat - distribiution\")\n",
    "plt.show()"
   ]
  },
  {
   "cell_type": "markdown",
   "id": "21ca95c5",
   "metadata": {},
   "source": [
    "-most diamonds are 0.4 - 1.04 carats,<br>\n",
    "-the median of the carat weight data is 0.7 carats,<br>\n",
    "-the mean is 0.79,<br>\n",
    "-there are many outlier observations."
   ]
  },
  {
   "cell_type": "markdown",
   "id": "2abd7ca7",
   "metadata": {},
   "source": [
    "### Price"
   ]
  },
  {
   "cell_type": "code",
   "execution_count": 6,
   "id": "411026ae",
   "metadata": {},
   "outputs": [
    {
     "data": {
      "image/png": "[encoded data removed]",
      "text/plain": [
       "<Figure size 1152x576 with 1 Axes>"
      ]
     },
     "metadata": {},
     "output_type": "display_data"
    }
   ],
   "source": [
    "sns.histplot(x='price',data=data_frame, kde=True, color='#333399')\n",
    "plt.title('Price ($) - distribiution', size=15)\n",
    "plt.show()"
   ]
  },
  {
   "cell_type": "code",
   "execution_count": 7,
   "id": "62fdd744",
   "metadata": {},
   "outputs": [
    {
     "data": {
      "text/plain": [
       "count    53943.000000\n",
       "mean      3932.734294\n",
       "std       3989.338447\n",
       "min        326.000000\n",
       "25%        950.000000\n",
       "50%       2401.000000\n",
       "75%       5324.000000\n",
       "max      18823.000000\n",
       "Name: price, dtype: float64"
      ]
     },
     "execution_count": 7,
     "metadata": {},
     "output_type": "execute_result"
    }
   ],
   "source": [
    "data_frame['price'].describe()"
   ]
  },
  {
   "cell_type": "markdown",
   "id": "59557a3f",
   "metadata": {},
   "source": [
    "The distribution of the diamond price is right-skewed - we have the peak of the results on the left. The distribution is platykurtic - there are many outlier observations.<br>\n",
    "- the lowest price \\\\$326<br>\n",
    "- the highest price \\\\$18,823 <br>\n",
    "- the average price \\\\$3932  <br>\n",
    "- he median $2401."
   ]
  },
  {
   "cell_type": "markdown",
   "id": "03eb94ff",
   "metadata": {},
   "source": [
    "### Cut - prices by cuts, does the cut affect the price?"
   ]
  },
  {
   "cell_type": "code",
   "execution_count": 8,
   "id": "50a5f407",
   "metadata": {},
   "outputs": [
    {
     "data": {
      "image/png": "[encoded data removed]",
      "text/plain": [
       "<Figure size 1152x576 with 1 Axes>"
      ]
     },
     "metadata": {},
     "output_type": "display_data"
    }
   ],
   "source": [
    "cuts = data_frame['cut'].value_counts()\n",
    "cuts = cuts.reset_index()\n",
    "sns.barplot(data=cuts, x='index', y='cut', palette =\"vlag\")\n",
    "plt.xlabel('Type of cut', size=15)\n",
    "plt.title('Number of diamonds in each type of cut', size=15)\n",
    "plt.show()"
   ]
  },
  {
   "cell_type": "code",
   "execution_count": 9,
   "id": "3966d1b4",
   "metadata": {},
   "outputs": [
    {
     "data": {
      "text/html": [
       "<div>\n",
       "<style scoped>\n",
       "    .dataframe tbody tr th:only-of-type {\n",
       "        vertical-align: middle;\n",
       "    }\n",
       "\n",
       "    .dataframe tbody tr th {\n",
       "        vertical-align: top;\n",
       "    }\n",
       "\n",
       "    .dataframe thead th {\n",
       "        text-align: right;\n",
       "    }\n",
       "</style>\n",
       "<table border=\"1\" class=\"dataframe\">\n",
       "  <thead>\n",
       "    <tr style=\"text-align: right;\">\n",
       "      <th></th>\n",
       "      <th>index</th>\n",
       "      <th>cut</th>\n",
       "    </tr>\n",
       "  </thead>\n",
       "  <tbody>\n",
       "    <tr>\n",
       "      <th>0</th>\n",
       "      <td>Ideal</td>\n",
       "      <td>21551</td>\n",
       "    </tr>\n",
       "    <tr>\n",
       "      <th>1</th>\n",
       "      <td>Premium</td>\n",
       "      <td>13793</td>\n",
       "    </tr>\n",
       "    <tr>\n",
       "      <th>2</th>\n",
       "      <td>Very Good</td>\n",
       "      <td>12083</td>\n",
       "    </tr>\n",
       "    <tr>\n",
       "      <th>3</th>\n",
       "      <td>Good</td>\n",
       "      <td>4906</td>\n",
       "    </tr>\n",
       "    <tr>\n",
       "      <th>4</th>\n",
       "      <td>Fair</td>\n",
       "      <td>1610</td>\n",
       "    </tr>\n",
       "  </tbody>\n",
       "</table>\n",
       "</div>"
      ],
      "text/plain": [
       "       index    cut\n",
       "0      Ideal  21551\n",
       "1    Premium  13793\n",
       "2  Very Good  12083\n",
       "3       Good   4906\n",
       "4       Fair   1610"
      ]
     },
     "execution_count": 9,
     "metadata": {},
     "output_type": "execute_result"
    }
   ],
   "source": [
    "cuts"
   ]
  },
  {
   "cell_type": "markdown",
   "id": "4b549068",
   "metadata": {},
   "source": [
    "The largest number of diamonds has the \"Ideal\" cut - 21,551, the least have the \"Fair\" cut - 1,610."
   ]
  },
  {
   "cell_type": "code",
   "execution_count": 10,
   "id": "a1a98ceb",
   "metadata": {},
   "outputs": [
    {
     "data": {
      "image/png": "[encoded data removed]",
      "text/plain": [
       "<Figure size 1152x576 with 1 Axes>"
      ]
     },
     "metadata": {},
     "output_type": "display_data"
    }
   ],
   "source": [
    "sns.boxplot(x='cut', y='price', data=data_frame, palette =\"vlag\")\n",
    "plt.xlabel('Cut')\n",
    "plt.title('Prices of diamonds by type of cut', size=15)\n",
    "plt.show()"
   ]
  },
  {
   "cell_type": "code",
   "execution_count": 11,
   "id": "08e3d808",
   "metadata": {},
   "outputs": [
    {
     "name": "stdout",
     "output_type": "stream",
     "text": [
      "At least one group mean that differs from the rest\n",
      "stat: 175.63263533586198 p-value: 9.410997495179044e-150\n"
     ]
    }
   ],
   "source": [
    "# perform ANOVA test to check if the means in all the groups are equal\n",
    "alpha = 0.05\n",
    "f, p = stats.f_oneway(data_frame.loc[data_frame['cut']=='Ideal','price'], data_frame.loc[data_frame['cut']=='Premium','price'],\n",
    "                         data_frame.loc[data_frame['cut']=='Very Good','price'], data_frame.loc[data_frame['cut']=='Good','price'],\n",
    "                         data_frame.loc[data_frame['cut']=='Fair','price'])\n",
    "if p > alpha:\n",
    "    print('The means of all the groups are equal')\n",
    "else:\n",
    "    print('At least one group mean that differs from the rest')\n",
    "print('stat:',f, 'p-value:',p)"
   ]
  },
  {
   "cell_type": "code",
   "execution_count": 12,
   "id": "2fc95539",
   "metadata": {},
   "outputs": [
    {
     "name": "stderr",
     "output_type": "stream",
     "text": [
      "/home/sylwia/anaconda3/envs/kurs/lib/python3.9/site-packages/bioinfokit/analys.py:365: FutureWarning: Dropping of nuisance columns in DataFrame reductions (with 'numeric_only=None') is deprecated; in a future version this will raise TypeError.  Select only valid columns before calling the reduction.\n",
      "  mult_group[ele] = df[df[xfac_var] == ele].mean().loc[res_var]\n"
     ]
    },
    {
     "data": {
      "text/html": [
       "<div>\n",
       "<style scoped>\n",
       "    .dataframe tbody tr th:only-of-type {\n",
       "        vertical-align: middle;\n",
       "    }\n",
       "\n",
       "    .dataframe tbody tr th {\n",
       "        vertical-align: top;\n",
       "    }\n",
       "\n",
       "    .dataframe thead th {\n",
       "        text-align: right;\n",
       "    }\n",
       "</style>\n",
       "<table border=\"1\" class=\"dataframe\">\n",
       "  <thead>\n",
       "    <tr style=\"text-align: right;\">\n",
       "      <th></th>\n",
       "      <th>group1</th>\n",
       "      <th>group2</th>\n",
       "      <th>Diff</th>\n",
       "      <th>Lower</th>\n",
       "      <th>Upper</th>\n",
       "      <th>q-value</th>\n",
       "      <th>p-value</th>\n",
       "    </tr>\n",
       "  </thead>\n",
       "  <tbody>\n",
       "    <tr>\n",
       "      <th>0</th>\n",
       "      <td>Ideal</td>\n",
       "      <td>Premium</td>\n",
       "      <td>1126.450635</td>\n",
       "      <td>1008.548629</td>\n",
       "      <td>1244.352641</td>\n",
       "      <td>36.857463</td>\n",
       "      <td>0.001000</td>\n",
       "    </tr>\n",
       "    <tr>\n",
       "      <th>1</th>\n",
       "      <td>Ideal</td>\n",
       "      <td>Good</td>\n",
       "      <td>471.322481</td>\n",
       "      <td>300.281870</td>\n",
       "      <td>642.363093</td>\n",
       "      <td>10.630493</td>\n",
       "      <td>0.001000</td>\n",
       "    </tr>\n",
       "    <tr>\n",
       "      <th>2</th>\n",
       "      <td>Ideal</td>\n",
       "      <td>Very Good</td>\n",
       "      <td>524.116558</td>\n",
       "      <td>401.232772</td>\n",
       "      <td>647.000345</td>\n",
       "      <td>16.453859</td>\n",
       "      <td>0.001000</td>\n",
       "    </tr>\n",
       "    <tr>\n",
       "      <th>3</th>\n",
       "      <td>Ideal</td>\n",
       "      <td>Fair</td>\n",
       "      <td>901.215794</td>\n",
       "      <td>621.859521</td>\n",
       "      <td>1180.572067</td>\n",
       "      <td>12.445285</td>\n",
       "      <td>0.001000</td>\n",
       "    </tr>\n",
       "    <tr>\n",
       "      <th>4</th>\n",
       "      <td>Premium</td>\n",
       "      <td>Good</td>\n",
       "      <td>655.128153</td>\n",
       "      <td>475.389089</td>\n",
       "      <td>834.867218</td>\n",
       "      <td>14.061066</td>\n",
       "      <td>0.001000</td>\n",
       "    </tr>\n",
       "    <tr>\n",
       "      <th>5</th>\n",
       "      <td>Premium</td>\n",
       "      <td>Very Good</td>\n",
       "      <td>602.334076</td>\n",
       "      <td>467.605959</td>\n",
       "      <td>737.062194</td>\n",
       "      <td>17.247004</td>\n",
       "      <td>0.001000</td>\n",
       "    </tr>\n",
       "    <tr>\n",
       "      <th>6</th>\n",
       "      <td>Premium</td>\n",
       "      <td>Fair</td>\n",
       "      <td>225.234841</td>\n",
       "      <td>-59.530269</td>\n",
       "      <td>509.999951</td>\n",
       "      <td>3.051288</td>\n",
       "      <td>0.195985</td>\n",
       "    </tr>\n",
       "    <tr>\n",
       "      <th>7</th>\n",
       "      <td>Good</td>\n",
       "      <td>Very Good</td>\n",
       "      <td>52.794077</td>\n",
       "      <td>-130.251473</td>\n",
       "      <td>235.839627</td>\n",
       "      <td>1.112655</td>\n",
       "      <td>0.900000</td>\n",
       "    </tr>\n",
       "    <tr>\n",
       "      <th>8</th>\n",
       "      <td>Good</td>\n",
       "      <td>Fair</td>\n",
       "      <td>429.893312</td>\n",
       "      <td>119.337076</td>\n",
       "      <td>740.449548</td>\n",
       "      <td>5.340168</td>\n",
       "      <td>0.001499</td>\n",
       "    </tr>\n",
       "    <tr>\n",
       "      <th>9</th>\n",
       "      <td>Very Good</td>\n",
       "      <td>Fair</td>\n",
       "      <td>377.099235</td>\n",
       "      <td>90.235662</td>\n",
       "      <td>663.962809</td>\n",
       "      <td>5.071246</td>\n",
       "      <td>0.003100</td>\n",
       "    </tr>\n",
       "  </tbody>\n",
       "</table>\n",
       "</div>"
      ],
      "text/plain": [
       "      group1     group2         Diff        Lower        Upper    q-value  \\\n",
       "0      Ideal    Premium  1126.450635  1008.548629  1244.352641  36.857463   \n",
       "1      Ideal       Good   471.322481   300.281870   642.363093  10.630493   \n",
       "2      Ideal  Very Good   524.116558   401.232772   647.000345  16.453859   \n",
       "3      Ideal       Fair   901.215794   621.859521  1180.572067  12.445285   \n",
       "4    Premium       Good   655.128153   475.389089   834.867218  14.061066   \n",
       "5    Premium  Very Good   602.334076   467.605959   737.062194  17.247004   \n",
       "6    Premium       Fair   225.234841   -59.530269   509.999951   3.051288   \n",
       "7       Good  Very Good    52.794077  -130.251473   235.839627   1.112655   \n",
       "8       Good       Fair   429.893312   119.337076   740.449548   5.340168   \n",
       "9  Very Good       Fair   377.099235    90.235662   663.962809   5.071246   \n",
       "\n",
       "    p-value  \n",
       "0  0.001000  \n",
       "1  0.001000  \n",
       "2  0.001000  \n",
       "3  0.001000  \n",
       "4  0.001000  \n",
       "5  0.001000  \n",
       "6  0.195985  \n",
       "7  0.900000  \n",
       "8  0.001499  \n",
       "9  0.003100  "
      ]
     },
     "execution_count": 12,
     "metadata": {},
     "output_type": "execute_result"
    }
   ],
   "source": [
    "#perform the post-hoc test - Tukey to check the best group\n",
    "data = data_frame[['cut', 'price']]\n",
    "res = stat()\n",
    "res.tukey_hsd(df=data, res_var='price', xfac_var='cut', \n",
    "              anova_model='price ~ C(cut)')\n",
    "res.tukey_summary"
   ]
  },
  {
   "cell_type": "markdown",
   "id": "0bea9865",
   "metadata": {},
   "source": [
    "In the box plot above we can see the distribution of prices by type of the cut, it seems that the most expensive diamonds are those with a \"Premium\" cut. The ANOVA test conducted confirmed this, that the average price in each cut group varies. The Tukey posthoc test made it possible to distinguish the averages, and so we learned that in the Premium and Fair groups the averages are not statistically different from each other and are the highest. Similarly, the Very Good and Good groups are not statistically different from each other. The lowest averages turned out to have diamonds of the \"Ideal\" cut.\n",
    "\n",
    "### Color - does the color of a diamond affect its price?"
   ]
  },
  {
   "cell_type": "code",
   "execution_count": 13,
   "id": "016383a8",
   "metadata": {},
   "outputs": [
    {
     "data": {
      "image/png": "[encoded data removed]",
      "text/plain": [
       "<Figure size 1152x576 with 1 Axes>"
      ]
     },
     "metadata": {},
     "output_type": "display_data"
    }
   ],
   "source": [
    "colors = data_frame['color'].value_counts()\n",
    "colors = colors.reset_index()\n",
    "sns.barplot(data=colors, x='index', y='color', palette =\"vlag\")\n",
    "plt.xlabel('Color')\n",
    "plt.title('Number of diamonds in each color', size=15)\n",
    "plt.show()"
   ]
  },
  {
   "cell_type": "code",
   "execution_count": 14,
   "id": "267c0050",
   "metadata": {},
   "outputs": [
    {
     "data": {
      "text/html": [
       "<div>\n",
       "<style scoped>\n",
       "    .dataframe tbody tr th:only-of-type {\n",
       "        vertical-align: middle;\n",
       "    }\n",
       "\n",
       "    .dataframe tbody tr th {\n",
       "        vertical-align: top;\n",
       "    }\n",
       "\n",
       "    .dataframe thead th {\n",
       "        text-align: right;\n",
       "    }\n",
       "</style>\n",
       "<table border=\"1\" class=\"dataframe\">\n",
       "  <thead>\n",
       "    <tr style=\"text-align: right;\">\n",
       "      <th></th>\n",
       "      <th>index</th>\n",
       "      <th>color</th>\n",
       "    </tr>\n",
       "  </thead>\n",
       "  <tbody>\n",
       "    <tr>\n",
       "      <th>0</th>\n",
       "      <td>G</td>\n",
       "      <td>11292</td>\n",
       "    </tr>\n",
       "    <tr>\n",
       "      <th>1</th>\n",
       "      <td>E</td>\n",
       "      <td>9799</td>\n",
       "    </tr>\n",
       "    <tr>\n",
       "      <th>2</th>\n",
       "      <td>F</td>\n",
       "      <td>9543</td>\n",
       "    </tr>\n",
       "    <tr>\n",
       "      <th>3</th>\n",
       "      <td>H</td>\n",
       "      <td>8304</td>\n",
       "    </tr>\n",
       "    <tr>\n",
       "      <th>4</th>\n",
       "      <td>D</td>\n",
       "      <td>6775</td>\n",
       "    </tr>\n",
       "    <tr>\n",
       "      <th>5</th>\n",
       "      <td>I</td>\n",
       "      <td>5422</td>\n",
       "    </tr>\n",
       "    <tr>\n",
       "      <th>6</th>\n",
       "      <td>J</td>\n",
       "      <td>2808</td>\n",
       "    </tr>\n",
       "  </tbody>\n",
       "</table>\n",
       "</div>"
      ],
      "text/plain": [
       "  index  color\n",
       "0     G  11292\n",
       "1     E   9799\n",
       "2     F   9543\n",
       "3     H   8304\n",
       "4     D   6775\n",
       "5     I   5422\n",
       "6     J   2808"
      ]
     },
     "execution_count": 14,
     "metadata": {},
     "output_type": "execute_result"
    }
   ],
   "source": [
    "colors"
   ]
  },
  {
   "cell_type": "code",
   "execution_count": 15,
   "id": "7eb16897",
   "metadata": {},
   "outputs": [
    {
     "data": {
      "image/png": "[encoded data removed]",
      "text/plain": [
       "<Figure size 1152x576 with 1 Axes>"
      ]
     },
     "metadata": {},
     "output_type": "display_data"
    }
   ],
   "source": [
    "sns.boxplot(x='color', y='price', data=data_frame,palette =\"vlag\")\n",
    "plt.xlabel('Color')\n",
    "plt.title('Prices of diamonds by color', size=15)\n",
    "plt.show()"
   ]
  },
  {
   "cell_type": "code",
   "execution_count": 16,
   "id": "245ae7a8",
   "metadata": {},
   "outputs": [
    {
     "name": "stdout",
     "output_type": "stream",
     "text": [
      "At least one group mean that differs from the rest\n",
      "stat: 290.254141558228 p-value: 0.0\n"
     ]
    }
   ],
   "source": [
    "# perform ANOVA test to check if the color of the diamond affects its price\n",
    "alpha = 0.05\n",
    "f, p = stats.f_oneway(data_frame.loc[data_frame['color']=='E','price'], data_frame.loc[data_frame['color']=='I','price'],\n",
    "                         data_frame.loc[data_frame['color']=='J','price'], data_frame.loc[data_frame['color']=='H','price'],\n",
    "                         data_frame.loc[data_frame['color']=='F','price'],data_frame.loc[data_frame['color']=='G','price'],\n",
    "                         data_frame.loc[data_frame['color']=='D','price'])\n",
    "if p > alpha:\n",
    "    print('The means of all the groups are equal')\n",
    "else:\n",
    "    print('At least one group mean that differs from the rest')\n",
    "print('stat:',f, 'p-value:',p)"
   ]
  },
  {
   "cell_type": "code",
   "execution_count": 17,
   "id": "fdc9908e",
   "metadata": {},
   "outputs": [
    {
     "name": "stderr",
     "output_type": "stream",
     "text": [
      "/home/sylwia/anaconda3/envs/kurs/lib/python3.9/site-packages/bioinfokit/analys.py:365: FutureWarning: Dropping of nuisance columns in DataFrame reductions (with 'numeric_only=None') is deprecated; in a future version this will raise TypeError.  Select only valid columns before calling the reduction.\n",
      "  mult_group[ele] = df[df[xfac_var] == ele].mean().loc[res_var]\n"
     ]
    },
    {
     "data": {
      "text/html": [
       "<div>\n",
       "<style scoped>\n",
       "    .dataframe tbody tr th:only-of-type {\n",
       "        vertical-align: middle;\n",
       "    }\n",
       "\n",
       "    .dataframe tbody tr th {\n",
       "        vertical-align: top;\n",
       "    }\n",
       "\n",
       "    .dataframe thead th {\n",
       "        text-align: right;\n",
       "    }\n",
       "</style>\n",
       "<table border=\"1\" class=\"dataframe\">\n",
       "  <thead>\n",
       "    <tr style=\"text-align: right;\">\n",
       "      <th></th>\n",
       "      <th>group1</th>\n",
       "      <th>group2</th>\n",
       "      <th>Diff</th>\n",
       "      <th>Lower</th>\n",
       "      <th>Upper</th>\n",
       "      <th>q-value</th>\n",
       "      <th>p-value</th>\n",
       "    </tr>\n",
       "  </thead>\n",
       "  <tbody>\n",
       "    <tr>\n",
       "      <th>0</th>\n",
       "      <td>E</td>\n",
       "      <td>I</td>\n",
       "      <td>2015.187843</td>\n",
       "      <td>1819.230557</td>\n",
       "      <td>2211.145129</td>\n",
       "      <td>42.880035</td>\n",
       "      <td>0.001000</td>\n",
       "    </tr>\n",
       "    <tr>\n",
       "      <th>1</th>\n",
       "      <td>E</td>\n",
       "      <td>J</td>\n",
       "      <td>2247.130909</td>\n",
       "      <td>1999.316300</td>\n",
       "      <td>2494.945518</td>\n",
       "      <td>37.809635</td>\n",
       "      <td>0.001000</td>\n",
       "    </tr>\n",
       "    <tr>\n",
       "      <th>2</th>\n",
       "      <td>E</td>\n",
       "      <td>H</td>\n",
       "      <td>1409.982085</td>\n",
       "      <td>1237.298448</td>\n",
       "      <td>1582.665721</td>\n",
       "      <td>34.045790</td>\n",
       "      <td>0.001000</td>\n",
       "    </tr>\n",
       "    <tr>\n",
       "      <th>3</th>\n",
       "      <td>E</td>\n",
       "      <td>F</td>\n",
       "      <td>648.097758</td>\n",
       "      <td>481.592555</td>\n",
       "      <td>814.602960</td>\n",
       "      <td>16.229821</td>\n",
       "      <td>0.001000</td>\n",
       "    </tr>\n",
       "    <tr>\n",
       "      <th>4</th>\n",
       "      <td>E</td>\n",
       "      <td>G</td>\n",
       "      <td>922.448560</td>\n",
       "      <td>762.609569</td>\n",
       "      <td>1082.287552</td>\n",
       "      <td>24.063591</td>\n",
       "      <td>0.001000</td>\n",
       "    </tr>\n",
       "    <tr>\n",
       "      <th>5</th>\n",
       "      <td>E</td>\n",
       "      <td>D</td>\n",
       "      <td>93.266985</td>\n",
       "      <td>-89.660346</td>\n",
       "      <td>276.194316</td>\n",
       "      <td>2.125937</td>\n",
       "      <td>0.715559</td>\n",
       "    </tr>\n",
       "    <tr>\n",
       "      <th>6</th>\n",
       "      <td>I</td>\n",
       "      <td>J</td>\n",
       "      <td>231.943066</td>\n",
       "      <td>-37.230289</td>\n",
       "      <td>501.116421</td>\n",
       "      <td>3.592943</td>\n",
       "      <td>0.144737</td>\n",
       "    </tr>\n",
       "    <tr>\n",
       "      <th>7</th>\n",
       "      <td>I</td>\n",
       "      <td>H</td>\n",
       "      <td>605.205758</td>\n",
       "      <td>403.062608</td>\n",
       "      <td>807.348908</td>\n",
       "      <td>12.483749</td>\n",
       "      <td>0.001000</td>\n",
       "    </tr>\n",
       "    <tr>\n",
       "      <th>8</th>\n",
       "      <td>I</td>\n",
       "      <td>F</td>\n",
       "      <td>1367.090085</td>\n",
       "      <td>1170.198752</td>\n",
       "      <td>1563.981419</td>\n",
       "      <td>28.951532</td>\n",
       "      <td>0.001000</td>\n",
       "    </tr>\n",
       "    <tr>\n",
       "      <th>9</th>\n",
       "      <td>I</td>\n",
       "      <td>G</td>\n",
       "      <td>1092.739283</td>\n",
       "      <td>901.452278</td>\n",
       "      <td>1284.026287</td>\n",
       "      <td>23.819470</td>\n",
       "      <td>0.001000</td>\n",
       "    </tr>\n",
       "    <tr>\n",
       "      <th>10</th>\n",
       "      <td>I</td>\n",
       "      <td>D</td>\n",
       "      <td>1921.920858</td>\n",
       "      <td>1710.959669</td>\n",
       "      <td>2132.882047</td>\n",
       "      <td>37.986908</td>\n",
       "      <td>0.001000</td>\n",
       "    </tr>\n",
       "    <tr>\n",
       "      <th>11</th>\n",
       "      <td>J</td>\n",
       "      <td>H</td>\n",
       "      <td>837.148824</td>\n",
       "      <td>584.414427</td>\n",
       "      <td>1089.883221</td>\n",
       "      <td>13.811452</td>\n",
       "      <td>0.001000</td>\n",
       "    </tr>\n",
       "    <tr>\n",
       "      <th>12</th>\n",
       "      <td>J</td>\n",
       "      <td>F</td>\n",
       "      <td>1599.033151</td>\n",
       "      <td>1350.479295</td>\n",
       "      <td>1847.587008</td>\n",
       "      <td>26.824891</td>\n",
       "      <td>0.001000</td>\n",
       "    </tr>\n",
       "    <tr>\n",
       "      <th>13</th>\n",
       "      <td>J</td>\n",
       "      <td>G</td>\n",
       "      <td>1324.682349</td>\n",
       "      <td>1080.543985</td>\n",
       "      <td>1568.820712</td>\n",
       "      <td>22.624382</td>\n",
       "      <td>0.001000</td>\n",
       "    </tr>\n",
       "    <tr>\n",
       "      <th>14</th>\n",
       "      <td>J</td>\n",
       "      <td>D</td>\n",
       "      <td>2153.863924</td>\n",
       "      <td>1894.022731</td>\n",
       "      <td>2413.705117</td>\n",
       "      <td>34.562987</td>\n",
       "      <td>0.001000</td>\n",
       "    </tr>\n",
       "    <tr>\n",
       "      <th>15</th>\n",
       "      <td>H</td>\n",
       "      <td>F</td>\n",
       "      <td>761.884327</td>\n",
       "      <td>588.141478</td>\n",
       "      <td>935.627176</td>\n",
       "      <td>18.284501</td>\n",
       "      <td>0.001000</td>\n",
       "    </tr>\n",
       "    <tr>\n",
       "      <th>16</th>\n",
       "      <td>H</td>\n",
       "      <td>G</td>\n",
       "      <td>487.533524</td>\n",
       "      <td>320.168360</td>\n",
       "      <td>654.898689</td>\n",
       "      <td>12.146200</td>\n",
       "      <td>0.001000</td>\n",
       "    </tr>\n",
       "    <tr>\n",
       "      <th>17</th>\n",
       "      <td>H</td>\n",
       "      <td>D</td>\n",
       "      <td>1316.715100</td>\n",
       "      <td>1127.176176</td>\n",
       "      <td>1506.254023</td>\n",
       "      <td>28.966393</td>\n",
       "      <td>0.001000</td>\n",
       "    </tr>\n",
       "    <tr>\n",
       "      <th>18</th>\n",
       "      <td>F</td>\n",
       "      <td>G</td>\n",
       "      <td>274.350803</td>\n",
       "      <td>113.368063</td>\n",
       "      <td>435.333543</td>\n",
       "      <td>7.106045</td>\n",
       "      <td>0.001000</td>\n",
       "    </tr>\n",
       "    <tr>\n",
       "      <th>19</th>\n",
       "      <td>F</td>\n",
       "      <td>D</td>\n",
       "      <td>554.830773</td>\n",
       "      <td>370.903212</td>\n",
       "      <td>738.758333</td>\n",
       "      <td>12.578091</td>\n",
       "      <td>0.001000</td>\n",
       "    </tr>\n",
       "    <tr>\n",
       "      <th>20</th>\n",
       "      <td>G</td>\n",
       "      <td>D</td>\n",
       "      <td>829.181575</td>\n",
       "      <td>651.266235</td>\n",
       "      <td>1007.096916</td>\n",
       "      <td>19.432884</td>\n",
       "      <td>0.001000</td>\n",
       "    </tr>\n",
       "  </tbody>\n",
       "</table>\n",
       "</div>"
      ],
      "text/plain": [
       "   group1 group2         Diff        Lower        Upper    q-value   p-value\n",
       "0       E      I  2015.187843  1819.230557  2211.145129  42.880035  0.001000\n",
       "1       E      J  2247.130909  1999.316300  2494.945518  37.809635  0.001000\n",
       "2       E      H  1409.982085  1237.298448  1582.665721  34.045790  0.001000\n",
       "3       E      F   648.097758   481.592555   814.602960  16.229821  0.001000\n",
       "4       E      G   922.448560   762.609569  1082.287552  24.063591  0.001000\n",
       "5       E      D    93.266985   -89.660346   276.194316   2.125937  0.715559\n",
       "6       I      J   231.943066   -37.230289   501.116421   3.592943  0.144737\n",
       "7       I      H   605.205758   403.062608   807.348908  12.483749  0.001000\n",
       "8       I      F  1367.090085  1170.198752  1563.981419  28.951532  0.001000\n",
       "9       I      G  1092.739283   901.452278  1284.026287  23.819470  0.001000\n",
       "10      I      D  1921.920858  1710.959669  2132.882047  37.986908  0.001000\n",
       "11      J      H   837.148824   584.414427  1089.883221  13.811452  0.001000\n",
       "12      J      F  1599.033151  1350.479295  1847.587008  26.824891  0.001000\n",
       "13      J      G  1324.682349  1080.543985  1568.820712  22.624382  0.001000\n",
       "14      J      D  2153.863924  1894.022731  2413.705117  34.562987  0.001000\n",
       "15      H      F   761.884327   588.141478   935.627176  18.284501  0.001000\n",
       "16      H      G   487.533524   320.168360   654.898689  12.146200  0.001000\n",
       "17      H      D  1316.715100  1127.176176  1506.254023  28.966393  0.001000\n",
       "18      F      G   274.350803   113.368063   435.333543   7.106045  0.001000\n",
       "19      F      D   554.830773   370.903212   738.758333  12.578091  0.001000\n",
       "20      G      D   829.181575   651.266235  1007.096916  19.432884  0.001000"
      ]
     },
     "execution_count": 17,
     "metadata": {},
     "output_type": "execute_result"
    }
   ],
   "source": [
    "#perform post-hoc test Tukey to check which group is the best\n",
    "tukey_data = data_frame[['color', 'price']]\n",
    "res = stat()\n",
    "res.tukey_hsd(df=tukey_data, res_var='price', xfac_var='color', \n",
    "              anova_model='price ~ C(color)')\n",
    "res.tukey_summary"
   ]
  },
  {
   "cell_type": "markdown",
   "id": "012c0971",
   "metadata": {},
   "source": [
    "From the results of ANOVA test and later the post hoc test, we know that what color the diamond is affects its price. From the post hoc test, the colors for which the price was highest turned out to be colors I and J, followed by colors H, G, F, and finally the colors with the lowest price, which is not statistically different - E and D."
   ]
  },
  {
   "cell_type": "markdown",
   "id": "28c17ea8",
   "metadata": {},
   "source": [
    "### Clarity"
   ]
  },
  {
   "cell_type": "code",
   "execution_count": 18,
   "id": "453f7d91",
   "metadata": {},
   "outputs": [
    {
     "data": {
      "image/png": "[encoded data removed]",
      "text/plain": [
       "<Figure size 1152x576 with 1 Axes>"
      ]
     },
     "metadata": {},
     "output_type": "display_data"
    }
   ],
   "source": [
    "clarity = data_frame['clarity'].value_counts()\n",
    "clarity = clarity.reset_index()\n",
    "sns.barplot(data=clarity, x='index', y='clarity',palette =\"Blues\")\n",
    "plt.xlabel(None)\n",
    "plt.title('Number of diamonds by clarity', size=15)\n",
    "plt.show()"
   ]
  },
  {
   "cell_type": "markdown",
   "id": "ab9cc2f5",
   "metadata": {},
   "source": [
    "The largest number of diamonds have the \"SI1\" clarity, the least have the \"I1\" clarity."
   ]
  },
  {
   "cell_type": "markdown",
   "id": "be8115cd",
   "metadata": {},
   "source": [
    "### Depth\n",
    "Total depth percentage = z / mean(x, y) = 2 * z / (x + y)"
   ]
  },
  {
   "cell_type": "code",
   "execution_count": 19,
   "id": "c433607e",
   "metadata": {},
   "outputs": [
    {
     "data": {
      "image/png": "[encoded data removed]",
      "text/plain": [
       "<Figure size 1152x576 with 1 Axes>"
      ]
     },
     "metadata": {},
     "output_type": "display_data"
    }
   ],
   "source": [
    "sns.histplot(x='depth',data=data_frame, bins=20, kde=True, color='#333399')\n",
    "plt.title('Depth - distribiution', size=15)\n",
    "plt.show()"
   ]
  },
  {
   "cell_type": "code",
   "execution_count": 20,
   "id": "f30d1ed5",
   "metadata": {},
   "outputs": [
    {
     "data": {
      "text/plain": [
       "count    53943.000000\n",
       "mean        61.749322\n",
       "std          1.432626\n",
       "min         43.000000\n",
       "25%         61.000000\n",
       "50%         61.800000\n",
       "75%         62.500000\n",
       "max         79.000000\n",
       "Name: depth, dtype: float64"
      ]
     },
     "execution_count": 20,
     "metadata": {},
     "output_type": "execute_result"
    }
   ],
   "source": [
    "data_frame['depth'].describe()"
   ]
  },
  {
   "cell_type": "markdown",
   "id": "cf705983",
   "metadata": {},
   "source": [
    "Depth values are in the 43-79 range, but most are in the 61-62 range."
   ]
  },
  {
   "cell_type": "markdown",
   "id": "40903919",
   "metadata": {},
   "source": [
    "### Table\n",
    "Table width of top of diamond relative to widest point"
   ]
  },
  {
   "cell_type": "code",
   "execution_count": 21,
   "id": "0a674405",
   "metadata": {},
   "outputs": [
    {
     "data": {
      "image/png": "[encoded data removed]",
      "text/plain": [
       "<Figure size 1152x144 with 1 Axes>"
      ]
     },
     "metadata": {},
     "output_type": "display_data"
    }
   ],
   "source": [
    "plt.figure(figsize=(16, 2))\n",
    "sns.boxplot(x='table',data=data_frame, color='#333399')\n",
    "plt.title(\"Table - distribiution\")\n",
    "plt.show()"
   ]
  },
  {
   "cell_type": "code",
   "execution_count": 22,
   "id": "2600f7bc",
   "metadata": {},
   "outputs": [
    {
     "data": {
      "text/plain": [
       "count    53943.000000\n",
       "mean        57.457251\n",
       "std          2.234549\n",
       "min         43.000000\n",
       "25%         56.000000\n",
       "50%         57.000000\n",
       "75%         59.000000\n",
       "max         95.000000\n",
       "Name: table, dtype: float64"
      ]
     },
     "execution_count": 22,
     "metadata": {},
     "output_type": "execute_result"
    }
   ],
   "source": [
    "data_frame['table'].describe()"
   ]
  },
  {
   "cell_type": "markdown",
   "id": "5a0587fa",
   "metadata": {},
   "source": [
    "Table values are in the 43-95 range, but most are in the 56-59 range."
   ]
  },
  {
   "cell_type": "markdown",
   "id": "ba774fc5",
   "metadata": {},
   "source": [
    "### Correlation"
   ]
  },
  {
   "cell_type": "code",
   "execution_count": 23,
   "id": "10f98ccd",
   "metadata": {
    "scrolled": true
   },
   "outputs": [
    {
     "data": {
      "text/html": [
       "<div>\n",
       "<style scoped>\n",
       "    .dataframe tbody tr th:only-of-type {\n",
       "        vertical-align: middle;\n",
       "    }\n",
       "\n",
       "    .dataframe tbody tr th {\n",
       "        vertical-align: top;\n",
       "    }\n",
       "\n",
       "    .dataframe thead th {\n",
       "        text-align: right;\n",
       "    }\n",
       "</style>\n",
       "<table border=\"1\" class=\"dataframe\">\n",
       "  <thead>\n",
       "    <tr style=\"text-align: right;\">\n",
       "      <th></th>\n",
       "      <th>carat</th>\n",
       "      <th>depth</th>\n",
       "      <th>table</th>\n",
       "      <th>price</th>\n",
       "      <th>x</th>\n",
       "      <th>y</th>\n",
       "      <th>z</th>\n",
       "    </tr>\n",
       "  </thead>\n",
       "  <tbody>\n",
       "    <tr>\n",
       "      <th>carat</th>\n",
       "      <td>1.000000</td>\n",
       "      <td>0.028234</td>\n",
       "      <td>0.181602</td>\n",
       "      <td>0.921591</td>\n",
       "      <td>0.975093</td>\n",
       "      <td>0.951721</td>\n",
       "      <td>0.953387</td>\n",
       "    </tr>\n",
       "    <tr>\n",
       "      <th>depth</th>\n",
       "      <td>0.028234</td>\n",
       "      <td>1.000000</td>\n",
       "      <td>-0.295798</td>\n",
       "      <td>-0.010630</td>\n",
       "      <td>-0.025289</td>\n",
       "      <td>-0.029340</td>\n",
       "      <td>0.094927</td>\n",
       "    </tr>\n",
       "    <tr>\n",
       "      <th>table</th>\n",
       "      <td>0.181602</td>\n",
       "      <td>-0.295798</td>\n",
       "      <td>1.000000</td>\n",
       "      <td>0.127118</td>\n",
       "      <td>0.195333</td>\n",
       "      <td>0.183750</td>\n",
       "      <td>0.150915</td>\n",
       "    </tr>\n",
       "    <tr>\n",
       "      <th>price</th>\n",
       "      <td>0.921591</td>\n",
       "      <td>-0.010630</td>\n",
       "      <td>0.127118</td>\n",
       "      <td>1.000000</td>\n",
       "      <td>0.884433</td>\n",
       "      <td>0.865419</td>\n",
       "      <td>0.861249</td>\n",
       "    </tr>\n",
       "    <tr>\n",
       "      <th>x</th>\n",
       "      <td>0.975093</td>\n",
       "      <td>-0.025289</td>\n",
       "      <td>0.195333</td>\n",
       "      <td>0.884433</td>\n",
       "      <td>1.000000</td>\n",
       "      <td>0.974701</td>\n",
       "      <td>0.970771</td>\n",
       "    </tr>\n",
       "    <tr>\n",
       "      <th>y</th>\n",
       "      <td>0.951721</td>\n",
       "      <td>-0.029340</td>\n",
       "      <td>0.183750</td>\n",
       "      <td>0.865419</td>\n",
       "      <td>0.974701</td>\n",
       "      <td>1.000000</td>\n",
       "      <td>0.952005</td>\n",
       "    </tr>\n",
       "    <tr>\n",
       "      <th>z</th>\n",
       "      <td>0.953387</td>\n",
       "      <td>0.094927</td>\n",
       "      <td>0.150915</td>\n",
       "      <td>0.861249</td>\n",
       "      <td>0.970771</td>\n",
       "      <td>0.952005</td>\n",
       "      <td>1.000000</td>\n",
       "    </tr>\n",
       "  </tbody>\n",
       "</table>\n",
       "</div>"
      ],
      "text/plain": [
       "          carat     depth     table     price         x         y         z\n",
       "carat  1.000000  0.028234  0.181602  0.921591  0.975093  0.951721  0.953387\n",
       "depth  0.028234  1.000000 -0.295798 -0.010630 -0.025289 -0.029340  0.094927\n",
       "table  0.181602 -0.295798  1.000000  0.127118  0.195333  0.183750  0.150915\n",
       "price  0.921591 -0.010630  0.127118  1.000000  0.884433  0.865419  0.861249\n",
       "x      0.975093 -0.025289  0.195333  0.884433  1.000000  0.974701  0.970771\n",
       "y      0.951721 -0.029340  0.183750  0.865419  0.974701  1.000000  0.952005\n",
       "z      0.953387  0.094927  0.150915  0.861249  0.970771  0.952005  1.000000"
      ]
     },
     "execution_count": 23,
     "metadata": {},
     "output_type": "execute_result"
    }
   ],
   "source": [
    "data_frame.corr()"
   ]
  },
  {
   "cell_type": "markdown",
   "id": "c812c1d1",
   "metadata": {},
   "source": [
    "From the above table with the correlation between variables, we can read a very high correlation for the variable carat and price. And it is these two variables that I will use in the next part of this analysis, where I will create a linear regression model for these two variables, and then check whether all the assumptions are met. "
   ]
  },
  {
   "cell_type": "code",
   "execution_count": 24,
   "id": "f0a4ca80",
   "metadata": {},
   "outputs": [
    {
     "data": {
      "text/plain": [
       "LinearRegression()"
      ]
     },
     "execution_count": 24,
     "metadata": {},
     "output_type": "execute_result"
    }
   ],
   "source": [
    "# Step 1 - create a linear regression model for the variables carat and price.\n",
    "\n",
    "lin_X = data_frame[['carat']] \n",
    "lin_y = data_frame[['price']] #target variable\n",
    "\n",
    "model = LinearRegression()\n",
    "model.fit(lin_X, lin_y)"
   ]
  },
  {
   "cell_type": "markdown",
   "id": "c124b0e8",
   "metadata": {},
   "source": [
    "### Assumption 1. Linear relationship\n",
    "We already know that there is a relationship between the variables carat and price, and this correlation is very high - 0.921591.\n",
    "To check the assumption of a linear relationship for the two variables, it is enough to make a sccaterplot."
   ]
  },
  {
   "cell_type": "code",
   "execution_count": 25,
   "id": "e5930059",
   "metadata": {},
   "outputs": [
    {
     "data": {
      "image/png": "[encoded data removed]",
      "text/plain": [
       "<Figure size 1152x576 with 1 Axes>"
      ]
     },
     "metadata": {},
     "output_type": "display_data"
    }
   ],
   "source": [
    "lin_y_pred = model.predict(lin_X)#predict\n",
    "plt.scatter(lin_X, lin_y, color='#333399')\n",
    "plt.plot(lin_X.values.flatten(), lin_y_pred.flatten(), color=\"b\", linewidth=3)\n",
    "plt.show()"
   ]
  },
  {
   "cell_type": "code",
   "execution_count": 26,
   "id": "cc670645",
   "metadata": {},
   "outputs": [
    {
     "name": "stdout",
     "output_type": "stream",
     "text": [
      "R^2: 0.8493304833200087\n"
     ]
    }
   ],
   "source": [
    "#count a coefficient of determination\n",
    "linear_r2 = model.score(lin_X, lin_y)\n",
    "print('R^2: {0}'.format(linear_r2))"
   ]
  },
  {
   "cell_type": "markdown",
   "id": "408fba2f",
   "metadata": {},
   "source": [
    "The scaterplot confirms the linear relationship, the coefficient of determination is also high."
   ]
  },
  {
   "cell_type": "code",
   "execution_count": 27,
   "id": "9970d864",
   "metadata": {},
   "outputs": [
    {
     "data": {
      "text/plain": [
       "2397833.9727003295"
      ]
     },
     "execution_count": 27,
     "metadata": {},
     "output_type": "execute_result"
    }
   ],
   "source": [
    "#calculating The Mean Squared Error (MSE)\n",
    "mse = sklearn.metrics.mean_squared_error(lin_y,lin_y_pred)  \n",
    "mse"
   ]
  },
  {
   "cell_type": "markdown",
   "id": "1f2f187a",
   "metadata": {},
   "source": [
    "### Assumption 2. The residuals are independent."
   ]
  },
  {
   "cell_type": "code",
   "execution_count": 28,
   "id": "9a6f19e2",
   "metadata": {},
   "outputs": [],
   "source": [
    "#calculate residuals\n",
    "df_results = pd.DataFrame({'Actual': lin_y.values.flatten(), 'Predicted': lin_y_pred.flatten()})\n",
    "df_results['Residuals'] = abs(df_results['Actual']) - abs(df_results['Predicted'])"
   ]
  },
  {
   "cell_type": "code",
   "execution_count": 29,
   "id": "a35c7c18",
   "metadata": {},
   "outputs": [
    {
     "name": "stdout",
     "output_type": "stream",
     "text": [
      "Durbin-Watson: 0.9908702335695819\n"
     ]
    }
   ],
   "source": [
    "#perform Durbin-Watson test to check if the assumption is met\n",
    "durbinWatson = durbin_watson(df_results['Residuals'])\n",
    "print('Durbin-Watson:', durbinWatson)"
   ]
  },
  {
   "cell_type": "code",
   "execution_count": 30,
   "id": "7b7e2509",
   "metadata": {},
   "outputs": [
    {
     "name": "stdout",
     "output_type": "stream",
     "text": [
      "Autocorrelation positive\n"
     ]
    }
   ],
   "source": [
    "if durbinWatson < 1.5:\n",
    "    print('Autocorrelation positive')\n",
    "elif durbinWatson > 2.5:\n",
    "    print('Autocorrelation negative')\n",
    "else:\n",
    "    print('No autocorrelation')"
   ]
  },
  {
   "cell_type": "markdown",
   "id": "b6b08b6a",
   "metadata": {},
   "source": [
    "To see if there is autocorrelation, I conducted the Durbin Watson test, for which test statistic results in the range of 1.5 to 2.5 are considered normal. Values below 1.5 and the closer they are to zero, the greater the positive autocorrelation. Values above 2.5 and the closer they are to 4 - the greater the negative autocorrelation.\n",
    "My variables did not meet this assumption, the result of 0.99 indicates the existence of positive autocorrelation.\n",
    "### Assumption 3. Normality of residuals"
   ]
  },
  {
   "cell_type": "code",
   "execution_count": 31,
   "id": "f66d32f3",
   "metadata": {},
   "outputs": [
    {
     "data": {
      "image/png": "[encoded data removed]",
      "text/plain": [
       "<Figure size 1152x576 with 1 Axes>"
      ]
     },
     "metadata": {},
     "output_type": "display_data"
    }
   ],
   "source": [
    "sns.histplot(x='Residuals',data=df_results,kde=True, color='#333399')\n",
    "plt.show()"
   ]
  },
  {
   "cell_type": "code",
   "execution_count": 32,
   "id": "3444f35a",
   "metadata": {},
   "outputs": [
    {
     "data": {
      "text/plain": [
       "(-16.27379119902105, -23.414730851163313, 0.9766037410739562, 8.23324990010656)"
      ]
     },
     "execution_count": 32,
     "metadata": {},
     "output_type": "execute_result"
    }
   ],
   "source": [
    "# check normality of residuals with  the rule of thumb\n",
    "df_results['Residuals'].mean(), df_results['Residuals'].median(), df_results['Residuals'].skew(), df_results['Residuals'].kurt()"
   ]
  },
  {
   "cell_type": "code",
   "execution_count": 33,
   "id": "d9634a96",
   "metadata": {},
   "outputs": [
    {
     "name": "stdout",
     "output_type": "stream",
     "text": [
      "The residuals do not have a normal distribution, p-value: 0.0\n"
     ]
    }
   ],
   "source": [
    "# perform Anderson-Darling test for a normal distribution\n",
    "p_value = normal_ad(df_results['Residuals'])[1]\n",
    "alpha = 0.05\n",
    "\n",
    "if p_value <= alpha:\n",
    "    print('The residuals do not have a normal distribution, p-value:', p_value)\n",
    "else:\n",
    "    print('The residuals have a normal distribution, p-value:', p_value)"
   ]
  },
  {
   "cell_type": "markdown",
   "id": "eadef244",
   "metadata": {},
   "source": [
    "The histogram, the rule of thumb and the Anderson-Darling test performed clearly indicate that the assumption of normality of the residuals is not met.\n",
    "### Assumption 4. Homoskedasticity - equality of the variance of the residuals.\n",
    "In order to confirm the homoskedasticity of the variance of the residuals, I will perform the Breusch-Pagan test, the null hypothesis of which assumes the existence of homoskedasticity, so if the p_value is lower than the alpha (0.05), it means that we must reject the null hypothesis, and thus homoskedasticity is absent."
   ]
  },
  {
   "cell_type": "code",
   "execution_count": 34,
   "id": "9204ac9f",
   "metadata": {},
   "outputs": [],
   "source": [
    "fit = smf.ols('price ~ carat', data=data_frame).fit()\n",
    "test_result = sms.het_breuschpagan(fit.resid, fit.model.exog)"
   ]
  },
  {
   "cell_type": "code",
   "execution_count": 35,
   "id": "68b7dd77",
   "metadata": {},
   "outputs": [
    {
     "data": {
      "text/plain": [
       "[('Lagrange multiplier statistic', 9131.739622285566),\n",
       " ('p-value', 0.0),\n",
       " ('f-value', 10992.218536452361),\n",
       " ('f p-value', 0.0)]"
      ]
     },
     "execution_count": 35,
     "metadata": {},
     "output_type": "execute_result"
    }
   ],
   "source": [
    "names = ['Lagrange multiplier statistic', 'p-value','f-value', 'f p-value']\n",
    "lzip(names,test_result)"
   ]
  },
  {
   "cell_type": "code",
   "execution_count": 36,
   "id": "7f096b3c",
   "metadata": {},
   "outputs": [
    {
     "name": "stdout",
     "output_type": "stream",
     "text": [
      "No homoskedasticity of variance\n"
     ]
    }
   ],
   "source": [
    "alpha = 0.05\n",
    "p_value = 0.0\n",
    "if p_value <= alpha:\n",
    "    print('No homoskedasticity of variance')\n",
    "else:\n",
    "    print('Homoskedasticity of variance')"
   ]
  },
  {
   "cell_type": "code",
   "execution_count": 37,
   "id": "f2195c5c",
   "metadata": {},
   "outputs": [
    {
     "data": {
      "image/png": "[encoded data removed]",
      "text/plain": [
       "<Figure size 1152x576 with 1 Axes>"
      ]
     },
     "metadata": {},
     "output_type": "display_data"
    }
   ],
   "source": [
    "plt.scatter(x=df_results.index, y=df_results.Residuals, alpha=0.5, color='#333399')\n",
    "plt.plot(np.repeat(0, df_results.index.max()), color='b', linewidth=4)\n",
    "plt.title('Residual')\n",
    "plt.show()"
   ]
  },
  {
   "cell_type": "markdown",
   "id": "bf404622",
   "metadata": {},
   "source": [
    "The result of the test rejected the null hypothesis and indicated that the variance of the residuals in my model is not equal. Also the scatterplot for the residuals confirms this - the distribiution is not uniform.\n",
    "\n",
    "### Multiple Linear Regression Model "
   ]
  },
  {
   "cell_type": "code",
   "execution_count": 38,
   "id": "748e6b21",
   "metadata": {},
   "outputs": [
    {
     "data": {
      "text/html": [
       "<div>\n",
       "<style scoped>\n",
       "    .dataframe tbody tr th:only-of-type {\n",
       "        vertical-align: middle;\n",
       "    }\n",
       "\n",
       "    .dataframe tbody tr th {\n",
       "        vertical-align: top;\n",
       "    }\n",
       "\n",
       "    .dataframe thead th {\n",
       "        text-align: right;\n",
       "    }\n",
       "</style>\n",
       "<table border=\"1\" class=\"dataframe\">\n",
       "  <thead>\n",
       "    <tr style=\"text-align: right;\">\n",
       "      <th></th>\n",
       "      <th>carat</th>\n",
       "      <th>depth</th>\n",
       "      <th>table</th>\n",
       "      <th>price</th>\n",
       "      <th>x</th>\n",
       "      <th>y</th>\n",
       "      <th>z</th>\n",
       "    </tr>\n",
       "  </thead>\n",
       "  <tbody>\n",
       "    <tr>\n",
       "      <th>carat</th>\n",
       "      <td>1.000000</td>\n",
       "      <td>0.028234</td>\n",
       "      <td>0.181602</td>\n",
       "      <td>0.921591</td>\n",
       "      <td>0.975093</td>\n",
       "      <td>0.951721</td>\n",
       "      <td>0.953387</td>\n",
       "    </tr>\n",
       "    <tr>\n",
       "      <th>depth</th>\n",
       "      <td>0.028234</td>\n",
       "      <td>1.000000</td>\n",
       "      <td>-0.295798</td>\n",
       "      <td>-0.010630</td>\n",
       "      <td>-0.025289</td>\n",
       "      <td>-0.029340</td>\n",
       "      <td>0.094927</td>\n",
       "    </tr>\n",
       "    <tr>\n",
       "      <th>table</th>\n",
       "      <td>0.181602</td>\n",
       "      <td>-0.295798</td>\n",
       "      <td>1.000000</td>\n",
       "      <td>0.127118</td>\n",
       "      <td>0.195333</td>\n",
       "      <td>0.183750</td>\n",
       "      <td>0.150915</td>\n",
       "    </tr>\n",
       "    <tr>\n",
       "      <th>price</th>\n",
       "      <td>0.921591</td>\n",
       "      <td>-0.010630</td>\n",
       "      <td>0.127118</td>\n",
       "      <td>1.000000</td>\n",
       "      <td>0.884433</td>\n",
       "      <td>0.865419</td>\n",
       "      <td>0.861249</td>\n",
       "    </tr>\n",
       "    <tr>\n",
       "      <th>x</th>\n",
       "      <td>0.975093</td>\n",
       "      <td>-0.025289</td>\n",
       "      <td>0.195333</td>\n",
       "      <td>0.884433</td>\n",
       "      <td>1.000000</td>\n",
       "      <td>0.974701</td>\n",
       "      <td>0.970771</td>\n",
       "    </tr>\n",
       "    <tr>\n",
       "      <th>y</th>\n",
       "      <td>0.951721</td>\n",
       "      <td>-0.029340</td>\n",
       "      <td>0.183750</td>\n",
       "      <td>0.865419</td>\n",
       "      <td>0.974701</td>\n",
       "      <td>1.000000</td>\n",
       "      <td>0.952005</td>\n",
       "    </tr>\n",
       "    <tr>\n",
       "      <th>z</th>\n",
       "      <td>0.953387</td>\n",
       "      <td>0.094927</td>\n",
       "      <td>0.150915</td>\n",
       "      <td>0.861249</td>\n",
       "      <td>0.970771</td>\n",
       "      <td>0.952005</td>\n",
       "      <td>1.000000</td>\n",
       "    </tr>\n",
       "  </tbody>\n",
       "</table>\n",
       "</div>"
      ],
      "text/plain": [
       "          carat     depth     table     price         x         y         z\n",
       "carat  1.000000  0.028234  0.181602  0.921591  0.975093  0.951721  0.953387\n",
       "depth  0.028234  1.000000 -0.295798 -0.010630 -0.025289 -0.029340  0.094927\n",
       "table  0.181602 -0.295798  1.000000  0.127118  0.195333  0.183750  0.150915\n",
       "price  0.921591 -0.010630  0.127118  1.000000  0.884433  0.865419  0.861249\n",
       "x      0.975093 -0.025289  0.195333  0.884433  1.000000  0.974701  0.970771\n",
       "y      0.951721 -0.029340  0.183750  0.865419  0.974701  1.000000  0.952005\n",
       "z      0.953387  0.094927  0.150915  0.861249  0.970771  0.952005  1.000000"
      ]
     },
     "execution_count": 38,
     "metadata": {},
     "output_type": "execute_result"
    }
   ],
   "source": [
    "data_frame.corr()"
   ]
  },
  {
   "cell_type": "markdown",
   "id": "94d32810",
   "metadata": {},
   "source": [
    "I chose the variables carat, depth and z (depth in mm) because they have the highest correlation with the price variable, while they do not have a high correlation between them.  For this reason, I did not choose the X and Y variables."
   ]
  },
  {
   "cell_type": "code",
   "execution_count": 39,
   "id": "e77afe9b",
   "metadata": {},
   "outputs": [
    {
     "data": {
      "text/plain": [
       "LinearRegression()"
      ]
     },
     "execution_count": 39,
     "metadata": {},
     "output_type": "execute_result"
    }
   ],
   "source": [
    "# Step 1 - create a linear regression model for the variables price, carat, depth and z.\n",
    "\n",
    "lin_X2 = data_frame[['carat', 'table', 'z']]\n",
    "lin_y2 = data_frame[['price']] #target variable\n",
    "\n",
    "model = LinearRegression()\n",
    "model.fit(lin_X2, lin_y2)"
   ]
  },
  {
   "cell_type": "code",
   "execution_count": 40,
   "id": "5950a7bd",
   "metadata": {},
   "outputs": [
    {
     "name": "stdout",
     "output_type": "stream",
     "text": [
      "R^2: 0.8547078441993853\n"
     ]
    }
   ],
   "source": [
    "#count a coefficient of determination\n",
    "linear_r2 = model.score(lin_X2, lin_y2)\n",
    "print('R^2: {0}'.format(linear_r2))"
   ]
  },
  {
   "cell_type": "code",
   "execution_count": 41,
   "id": "d7195602",
   "metadata": {},
   "outputs": [],
   "source": [
    "lin_y2_pred = model.predict(lin_X2)#predict"
   ]
  },
  {
   "cell_type": "code",
   "execution_count": 42,
   "id": "899c50a9",
   "metadata": {},
   "outputs": [],
   "source": [
    "y, X = dmatrices('price ~ carat+table+z', data=data_frame, return_type='dataframe')"
   ]
  },
  {
   "cell_type": "code",
   "execution_count": 43,
   "id": "7302c8d0",
   "metadata": {},
   "outputs": [],
   "source": [
    "#calculate VIF coefficient\n",
    "vif = pd.DataFrame()\n",
    "vif['VIF'] = [variance_inflation_factor(X.values, i) for i in range(X.shape[1])]\n",
    "vif['variable'] = X.columns"
   ]
  },
  {
   "cell_type": "code",
   "execution_count": 44,
   "id": "f6682866",
   "metadata": {},
   "outputs": [
    {
     "data": {
      "text/html": [
       "<div>\n",
       "<style scoped>\n",
       "    .dataframe tbody tr th:only-of-type {\n",
       "        vertical-align: middle;\n",
       "    }\n",
       "\n",
       "    .dataframe tbody tr th {\n",
       "        vertical-align: top;\n",
       "    }\n",
       "\n",
       "    .dataframe thead th {\n",
       "        text-align: right;\n",
       "    }\n",
       "</style>\n",
       "<table border=\"1\" class=\"dataframe\">\n",
       "  <thead>\n",
       "    <tr style=\"text-align: right;\">\n",
       "      <th></th>\n",
       "      <th>VIF</th>\n",
       "      <th>variable</th>\n",
       "    </tr>\n",
       "  </thead>\n",
       "  <tbody>\n",
       "    <tr>\n",
       "      <th>0</th>\n",
       "      <td>847.546094</td>\n",
       "      <td>Intercept</td>\n",
       "    </tr>\n",
       "    <tr>\n",
       "      <th>1</th>\n",
       "      <td>11.161115</td>\n",
       "      <td>carat</td>\n",
       "    </tr>\n",
       "    <tr>\n",
       "      <th>2</th>\n",
       "      <td>1.039936</td>\n",
       "      <td>table</td>\n",
       "    </tr>\n",
       "    <tr>\n",
       "      <th>3</th>\n",
       "      <td>11.044574</td>\n",
       "      <td>z</td>\n",
       "    </tr>\n",
       "  </tbody>\n",
       "</table>\n",
       "</div>"
      ],
      "text/plain": [
       "          VIF   variable\n",
       "0  847.546094  Intercept\n",
       "1   11.161115      carat\n",
       "2    1.039936      table\n",
       "3   11.044574          z"
      ]
     },
     "execution_count": 44,
     "metadata": {},
     "output_type": "execute_result"
    }
   ],
   "source": [
    "vif"
   ]
  },
  {
   "cell_type": "markdown",
   "id": "f7ee1397",
   "metadata": {},
   "source": [
    "The VIF value helps determine whether a given predictor is not correlated with other predictors in the model. In my case for \"carat\" and \"z\" variables there is slight collinearity of predictors is present, we can consider changing the model."
   ]
  },
  {
   "cell_type": "code",
   "execution_count": 45,
   "id": "d6110bca",
   "metadata": {},
   "outputs": [],
   "source": [
    "#calculating The Mean Squared Error (MSE)\n",
    "mse2 = sklearn.metrics.mean_squared_error(lin_y2, lin_y2_pred)"
   ]
  },
  {
   "cell_type": "code",
   "execution_count": 46,
   "id": "4d72486b",
   "metadata": {},
   "outputs": [
    {
     "data": {
      "text/plain": [
       "2312255.8220288525"
      ]
     },
     "execution_count": 46,
     "metadata": {},
     "output_type": "execute_result"
    }
   ],
   "source": [
    "mse2"
   ]
  },
  {
   "cell_type": "markdown",
   "id": "9f44fd56",
   "metadata": {},
   "source": [
    "The second model for multiple variables has a lower MSE error score which means it is a better model."
   ]
  }
 ],
 "metadata": {
  "kernelspec": {
   "display_name": "Python 3 (ipykernel)",
   "language": "python",
   "name": "python3"
  },
  "language_info": {
   "codemirror_mode": {
    "name": "ipython",
    "version": 3
   },
   "file_extension": ".py",
   "mimetype": "text/x-python",
   "name": "python",
   "nbconvert_exporter": "python",
   "pygments_lexer": "ipython3",
   "version": "3.9.12"
  }
 },
 "nbformat": 4,
 "nbformat_minor": 5
}
