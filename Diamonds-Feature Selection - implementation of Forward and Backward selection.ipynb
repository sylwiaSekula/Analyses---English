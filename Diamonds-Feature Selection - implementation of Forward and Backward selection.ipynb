{
 "cells": [
  {
   "cell_type": "code",
   "execution_count": 38,
   "id": "6cb2aeae",
   "metadata": {},
   "outputs": [],
   "source": [
    "import numpy as np\n",
    "import pandas as pd\n",
    "from scipy import stats\n",
    "from sklearn.preprocessing import StandardScaler\n",
    "from sklearn.linear_model import LinearRegression"
   ]
  },
  {
   "cell_type": "code",
   "execution_count": 39,
   "id": "825212d4",
   "metadata": {},
   "outputs": [
    {
     "name": "stdout",
     "output_type": "stream",
     "text": [
      "<class 'pandas.core.frame.DataFrame'>\n",
      "Int64Index: 53943 entries, 1 to 53943\n",
      "Data columns (total 10 columns):\n",
      " #   Column   Non-Null Count  Dtype  \n",
      "---  ------   --------------  -----  \n",
      " 0   carat    53943 non-null  float64\n",
      " 1   cut      53943 non-null  object \n",
      " 2   color    53943 non-null  object \n",
      " 3   clarity  53943 non-null  object \n",
      " 4   depth    53943 non-null  float64\n",
      " 5   table    53943 non-null  float64\n",
      " 6   price    53943 non-null  int64  \n",
      " 7   x        53943 non-null  float64\n",
      " 8   y        53943 non-null  float64\n",
      " 9   z        53943 non-null  float64\n",
      "dtypes: float64(6), int64(1), object(3)\n",
      "memory usage: 4.5+ MB\n"
     ]
    }
   ],
   "source": [
    "data_frame = pd.read_csv('./Diamonds Prices2022.csv',index_col=0)\n",
    "data_frame.info()"
   ]
  },
  {
   "cell_type": "code",
   "execution_count": 40,
   "id": "c567613d",
   "metadata": {},
   "outputs": [
    {
     "data": {
      "text/html": [
       "<div>\n",
       "<style scoped>\n",
       "    .dataframe tbody tr th:only-of-type {\n",
       "        vertical-align: middle;\n",
       "    }\n",
       "\n",
       "    .dataframe tbody tr th {\n",
       "        vertical-align: top;\n",
       "    }\n",
       "\n",
       "    .dataframe thead th {\n",
       "        text-align: right;\n",
       "    }\n",
       "</style>\n",
       "<table border=\"1\" class=\"dataframe\">\n",
       "  <thead>\n",
       "    <tr style=\"text-align: right;\">\n",
       "      <th></th>\n",
       "      <th>carat</th>\n",
       "      <th>cut</th>\n",
       "      <th>color</th>\n",
       "      <th>clarity</th>\n",
       "      <th>depth</th>\n",
       "      <th>table</th>\n",
       "      <th>price</th>\n",
       "      <th>x</th>\n",
       "      <th>y</th>\n",
       "      <th>z</th>\n",
       "    </tr>\n",
       "  </thead>\n",
       "  <tbody>\n",
       "    <tr>\n",
       "      <th>1</th>\n",
       "      <td>0.23</td>\n",
       "      <td>Ideal</td>\n",
       "      <td>E</td>\n",
       "      <td>SI2</td>\n",
       "      <td>61.5</td>\n",
       "      <td>55.0</td>\n",
       "      <td>326</td>\n",
       "      <td>3.95</td>\n",
       "      <td>3.98</td>\n",
       "      <td>2.43</td>\n",
       "    </tr>\n",
       "    <tr>\n",
       "      <th>2</th>\n",
       "      <td>0.21</td>\n",
       "      <td>Premium</td>\n",
       "      <td>E</td>\n",
       "      <td>SI1</td>\n",
       "      <td>59.8</td>\n",
       "      <td>61.0</td>\n",
       "      <td>326</td>\n",
       "      <td>3.89</td>\n",
       "      <td>3.84</td>\n",
       "      <td>2.31</td>\n",
       "    </tr>\n",
       "    <tr>\n",
       "      <th>3</th>\n",
       "      <td>0.23</td>\n",
       "      <td>Good</td>\n",
       "      <td>E</td>\n",
       "      <td>VS1</td>\n",
       "      <td>56.9</td>\n",
       "      <td>65.0</td>\n",
       "      <td>327</td>\n",
       "      <td>4.05</td>\n",
       "      <td>4.07</td>\n",
       "      <td>2.31</td>\n",
       "    </tr>\n",
       "    <tr>\n",
       "      <th>4</th>\n",
       "      <td>0.29</td>\n",
       "      <td>Premium</td>\n",
       "      <td>I</td>\n",
       "      <td>VS2</td>\n",
       "      <td>62.4</td>\n",
       "      <td>58.0</td>\n",
       "      <td>334</td>\n",
       "      <td>4.20</td>\n",
       "      <td>4.23</td>\n",
       "      <td>2.63</td>\n",
       "    </tr>\n",
       "    <tr>\n",
       "      <th>5</th>\n",
       "      <td>0.31</td>\n",
       "      <td>Good</td>\n",
       "      <td>J</td>\n",
       "      <td>SI2</td>\n",
       "      <td>63.3</td>\n",
       "      <td>58.0</td>\n",
       "      <td>335</td>\n",
       "      <td>4.34</td>\n",
       "      <td>4.35</td>\n",
       "      <td>2.75</td>\n",
       "    </tr>\n",
       "    <tr>\n",
       "      <th>...</th>\n",
       "      <td>...</td>\n",
       "      <td>...</td>\n",
       "      <td>...</td>\n",
       "      <td>...</td>\n",
       "      <td>...</td>\n",
       "      <td>...</td>\n",
       "      <td>...</td>\n",
       "      <td>...</td>\n",
       "      <td>...</td>\n",
       "      <td>...</td>\n",
       "    </tr>\n",
       "    <tr>\n",
       "      <th>53939</th>\n",
       "      <td>0.86</td>\n",
       "      <td>Premium</td>\n",
       "      <td>H</td>\n",
       "      <td>SI2</td>\n",
       "      <td>61.0</td>\n",
       "      <td>58.0</td>\n",
       "      <td>2757</td>\n",
       "      <td>6.15</td>\n",
       "      <td>6.12</td>\n",
       "      <td>3.74</td>\n",
       "    </tr>\n",
       "    <tr>\n",
       "      <th>53940</th>\n",
       "      <td>0.75</td>\n",
       "      <td>Ideal</td>\n",
       "      <td>D</td>\n",
       "      <td>SI2</td>\n",
       "      <td>62.2</td>\n",
       "      <td>55.0</td>\n",
       "      <td>2757</td>\n",
       "      <td>5.83</td>\n",
       "      <td>5.87</td>\n",
       "      <td>3.64</td>\n",
       "    </tr>\n",
       "    <tr>\n",
       "      <th>53941</th>\n",
       "      <td>0.71</td>\n",
       "      <td>Premium</td>\n",
       "      <td>E</td>\n",
       "      <td>SI1</td>\n",
       "      <td>60.5</td>\n",
       "      <td>55.0</td>\n",
       "      <td>2756</td>\n",
       "      <td>5.79</td>\n",
       "      <td>5.74</td>\n",
       "      <td>3.49</td>\n",
       "    </tr>\n",
       "    <tr>\n",
       "      <th>53942</th>\n",
       "      <td>0.71</td>\n",
       "      <td>Premium</td>\n",
       "      <td>F</td>\n",
       "      <td>SI1</td>\n",
       "      <td>59.8</td>\n",
       "      <td>62.0</td>\n",
       "      <td>2756</td>\n",
       "      <td>5.74</td>\n",
       "      <td>5.73</td>\n",
       "      <td>3.43</td>\n",
       "    </tr>\n",
       "    <tr>\n",
       "      <th>53943</th>\n",
       "      <td>0.70</td>\n",
       "      <td>Very Good</td>\n",
       "      <td>E</td>\n",
       "      <td>VS2</td>\n",
       "      <td>60.5</td>\n",
       "      <td>59.0</td>\n",
       "      <td>2757</td>\n",
       "      <td>5.71</td>\n",
       "      <td>5.76</td>\n",
       "      <td>3.47</td>\n",
       "    </tr>\n",
       "  </tbody>\n",
       "</table>\n",
       "<p>53943 rows × 10 columns</p>\n",
       "</div>"
      ],
      "text/plain": [
       "       carat        cut color clarity  depth  table  price     x     y     z\n",
       "1       0.23      Ideal     E     SI2   61.5   55.0    326  3.95  3.98  2.43\n",
       "2       0.21    Premium     E     SI1   59.8   61.0    326  3.89  3.84  2.31\n",
       "3       0.23       Good     E     VS1   56.9   65.0    327  4.05  4.07  2.31\n",
       "4       0.29    Premium     I     VS2   62.4   58.0    334  4.20  4.23  2.63\n",
       "5       0.31       Good     J     SI2   63.3   58.0    335  4.34  4.35  2.75\n",
       "...      ...        ...   ...     ...    ...    ...    ...   ...   ...   ...\n",
       "53939   0.86    Premium     H     SI2   61.0   58.0   2757  6.15  6.12  3.74\n",
       "53940   0.75      Ideal     D     SI2   62.2   55.0   2757  5.83  5.87  3.64\n",
       "53941   0.71    Premium     E     SI1   60.5   55.0   2756  5.79  5.74  3.49\n",
       "53942   0.71    Premium     F     SI1   59.8   62.0   2756  5.74  5.73  3.43\n",
       "53943   0.70  Very Good     E     VS2   60.5   59.0   2757  5.71  5.76  3.47\n",
       "\n",
       "[53943 rows x 10 columns]"
      ]
     },
     "execution_count": 40,
     "metadata": {},
     "output_type": "execute_result"
    }
   ],
   "source": [
    "data_frame"
   ]
  },
  {
   "cell_type": "code",
   "execution_count": 41,
   "id": "be84a408",
   "metadata": {},
   "outputs": [],
   "source": [
    "#Label encoding for variable cut, it will order them in the order - Fair - the worst cut, Premium - the best cut\n",
    "cut_names =['Fair', 'Good', 'Very Good', 'Ideal','Premium']\n",
    "cut_labels = pd.factorize(cut_names)[0]\n",
    "data_frame['cut'] = data_frame['cut'].map(dict(zip(cut_names, cut_labels)))"
   ]
  },
  {
   "cell_type": "code",
   "execution_count": 42,
   "id": "ffb4ecf2",
   "metadata": {},
   "outputs": [],
   "source": [
    "#Label encoding, we can also encode the colors of diamonds using Label endocding,\n",
    "# because with the variable color we can order theoretically the most valuable diamonds are those with color D, \n",
    "# and the least valuable are those with color J, between them we keep the alphabetical order\n",
    "color_names =['J', 'I', 'H', 'G','F','E','D']\n",
    "color_labels = pd.factorize(color_names)[0]\n",
    "data_frame['color'] = data_frame['color'].map(dict(zip(color_names, color_labels)))"
   ]
  },
  {
   "cell_type": "code",
   "execution_count": 43,
   "id": "630b332b",
   "metadata": {},
   "outputs": [],
   "source": [
    "#We can also order this categorical variable, since diamonds have a clarity scale \n",
    "clarity_names =['I1', 'VVS1','VVS2', 'VS1', 'VS2','SI1','SI2','IF']\n",
    "clarity_labels = pd.factorize(clarity_names)[0]\n",
    "data_frame['clarity'] = data_frame['clarity'].map(dict(zip(clarity_names, clarity_labels)))"
   ]
  },
  {
   "cell_type": "code",
   "execution_count": 44,
   "id": "526f2dad",
   "metadata": {},
   "outputs": [],
   "source": [
    "model = LinearRegression()\n",
    "scaler = StandardScaler()"
   ]
  },
  {
   "cell_type": "code",
   "execution_count": 49,
   "id": "00a52031",
   "metadata": {},
   "outputs": [],
   "source": [
    "#scale the numerical data\n",
    "final_df = data_frame.copy()\n",
    "final_df[[\"carat\", \"depth\", \"table\", \"price\", 'x', 'y', 'z']] = scaler.fit_transform(data_frame\n",
    "                                                                                     [[\"carat\", \"depth\", \"table\", \"price\", 'x', 'y', 'z']])"
   ]
  },
  {
   "cell_type": "markdown",
   "id": "058f674a",
   "metadata": {},
   "source": [
    "### Forward selection"
   ]
  },
  {
   "cell_type": "code",
   "execution_count": 55,
   "id": "3a9b7ded",
   "metadata": {},
   "outputs": [],
   "source": [
    "#create targets and features\n",
    "y_name = \"price\"\n",
    "attr_names = list(final_df.drop('price', axis=1).columns)\n",
    "all_possible = attr_names.copy()"
   ]
  },
  {
   "cell_type": "code",
   "execution_count": 51,
   "id": "c07f35ce",
   "metadata": {},
   "outputs": [],
   "source": [
    "tolerance = 0.01"
   ]
  },
  {
   "cell_type": "code",
   "execution_count": 53,
   "id": "47ddfb10",
   "metadata": {},
   "outputs": [
    {
     "name": "stdout",
     "output_type": "stream",
     "text": [
      "[('carat', 0.8493304833200088), ('cut', 0.0008313413672876857), ('color', 0.029763033875571), ('clarity', 0.012569365746941896), ('depth', 0.0001129984176113652), ('table', 0.01615895063447781), ('x', 0.782221323509542), ('y', 0.7489494819516715), ('z', 0.7417495130634612)]\n",
      "Chosen feature(s):('carat', 0.8493304833200088)\n",
      "Chosen feature(s):['carat']\n",
      "[('cut', 0.8515060145547461), ('color', 0.8594162644199514), ('clarity', 0.8564956314037662), ('depth', 0.8506748265259675), ('table', 0.8510053541832346), ('x', 0.8534319855784495), ('y', 0.8507780949229875), ('z', 0.8526496705185767)]\n",
      "Chosen feature(s):('color', 0.8594162644199514)\n",
      "Chosen feature(s):['carat', 'color']\n",
      "[('cut', 0.8617239766294208), ('clarity', 0.8681188512689051), ('depth', 0.8604781949174541), ('table', 0.861331930712862), ('x', 0.8644252343082075), ('y', 0.8612490425523843), ('z', 0.8631368171768955)]\n",
      "Chosen feature(s):('clarity', 0.8681188512689051)\n",
      "Chosen feature(s):['carat', 'color', 'clarity']\n"
     ]
    }
   ],
   "source": [
    "attr_names = list(final_df.drop('price', axis=1).columns)\n",
    "current_names = []\n",
    "last_score = 0 \n",
    "cur_diff = 1\n",
    "while current_names != all_possible and cur_diff > tolerance:\n",
    "        scores = []\n",
    "        for name in attr_names:\n",
    "            model.fit(final_df[current_names + [name]], final_df[y_name])\n",
    "            score = model.score(final_df[current_names + [name]], final_df[y_name])\n",
    "            scores.append((name, score))\n",
    "        \n",
    "        scores_val = [item[1] for item in scores]\n",
    "        best = np.argmax(scores_val)\n",
    "        chosen_col = scores[best][0]\n",
    "        current_names.append(chosen_col)\n",
    "        cur_diff = scores[best][1] - last_score\n",
    "        attr_names.remove(chosen_col)\n",
    "        last_score = scores[best][1]\n",
    "\n",
    "        print(scores, scores[best], current_names, sep='\\nChosen feature(s):')"
   ]
  },
  {
   "cell_type": "markdown",
   "id": "57d560af",
   "metadata": {},
   "source": [
    "As a result of forward selection, the selected variables are \"Carat\", \"Color\" and \"Clarity\"\n",
    "### Backward selection"
   ]
  },
  {
   "cell_type": "code",
   "execution_count": 54,
   "id": "cd8d919f",
   "metadata": {},
   "outputs": [
    {
     "name": "stdout",
     "output_type": "stream",
     "text": [
      "z -0.8779738325982578 0.8779738325982578\n",
      "y 3.615273190782364e-05 0.87793767986635\n",
      "cut 0.0009312118132327463 0.8770064680531172\n",
      "table 0.0026951859537250877 0.8743112820993921\n",
      "depth 0.002359311827999977 0.8719519702713922\n",
      "x 0.003833119002487062 0.8681188512689051\n",
      "clarity 0.008702586848953642 0.8594162644199514\n",
      "Model is most optimal when ['carat', 'color'] used\n",
      "====================================================================================================\n"
     ]
    }
   ],
   "source": [
    "y_name = 'price'\n",
    "X_names = final_df.drop('price', axis=1)\n",
    "\n",
    "\n",
    "attr_names = list(final_df.drop('price', axis=1).columns)\n",
    "\n",
    "tolerance = 0.01\n",
    "last_score = 0\n",
    "cur_diff = 0 # starting value\n",
    "i = 0\n",
    "while cur_diff < tolerance: # condition\n",
    "    scores = []\n",
    "    for name in attr_names:\n",
    "        model.fit(X_names.drop(name, axis=1), final_df[y_name])\n",
    "        score = model.score(X_names.drop(name, axis=1), final_df[y_name])\n",
    "        scores.append((name, score))\n",
    "\n",
    "    scores_val = [item[1] for item in scores]\n",
    "    best = np.argmax(scores_val)\n",
    "    chosen_col = scores[best][0]\n",
    "    cur_diff = last_score - scores[best][1] # kolejność\n",
    "    if cur_diff >= tolerance:\n",
    "        print(f'Model is most optimal when {attr_names} used')\n",
    "        break\n",
    "    X_names = X_names.drop(chosen_col, axis=1)\n",
    "    attr_names.remove(chosen_col)\n",
    "    last_score = scores[best][1]\n",
    "    i += 1\n",
    "\n",
    "    print(chosen_col, cur_diff, last_score)\n",
    "\n",
    "print('='*100)"
   ]
  },
  {
   "cell_type": "markdown",
   "id": "8c8ce44d",
   "metadata": {},
   "source": [
    "As a result of backward selection, the selected variables are \"Carat\" and \"Color\"."
   ]
  }
 ],
 "metadata": {
  "kernelspec": {
   "display_name": "Python 3 (ipykernel)",
   "language": "python",
   "name": "python3"
  },
  "language_info": {
   "codemirror_mode": {
    "name": "ipython",
    "version": 3
   },
   "file_extension": ".py",
   "mimetype": "text/x-python",
   "name": "python",
   "nbconvert_exporter": "python",
   "pygments_lexer": "ipython3",
   "version": "3.9.12"
  }
 },
 "nbformat": 4,
 "nbformat_minor": 5
}
